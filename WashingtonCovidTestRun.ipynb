{
 "cells": [
  {
   "cell_type": "code",
   "execution_count": 1,
   "metadata": {
    "scrolled": false
   },
   "outputs": [
    {
     "name": "stdout",
     "output_type": "stream",
     "text": [
      "Date: 20210126 | Total Positive: 302141 | New Positive: 1943 | Total Death: 4148 | New Deaths: 34 | Cur Hosp: 846\n",
      "{'date': 20210126, 'state': 'WA', 'positive': 302141, 'probableCases': 13193, 'negative': 4135282, 'pending': None, 'totalTestResultsSource': 'totalTestEncountersViral', 'totalTestResults': 4424230, 'hospitalizedCurrently': 846, 'hospitalizedCumulative': 17259, 'inIcuCurrently': 173, 'inIcuCumulative': None, 'onVentilatorCurrently': 82, 'onVentilatorCumulative': None, 'recovered': None, 'dataQualityGrade': 'A', 'lastUpdateEt': '1/25/2021 02:59', 'dateModified': '2021-01-25T02:59:00Z', 'checkTimeEt': '01/24 21:59', 'death': 4148, 'hospitalized': 17259, 'dateChecked': '2021-01-25T02:59:00Z', 'totalTestsViral': None, 'positiveTestsViral': None, 'negativeTestsViral': None, 'positiveCasesViral': 288948, 'deathConfirmed': None, 'deathProbable': None, 'totalTestEncountersViral': 4424230, 'totalTestsPeopleViral': None, 'totalTestsAntibody': None, 'positiveTestsAntibody': None, 'negativeTestsAntibody': None, 'totalTestsPeopleAntibody': None, 'positiveTestsPeopleAntibody': None, 'negativeTestsPeopleAntibody': None, 'totalTestsPeopleAntigen': None, 'positiveTestsPeopleAntigen': None, 'totalTestsAntigen': None, 'positiveTestsAntigen': None, 'fips': '53', 'positiveIncrease': 1943, 'negativeIncrease': 48667, 'total': 4437423, 'totalTestResultsIncrease': 50584, 'posNeg': 4437423, 'deathIncrease': 34, 'hospitalizedIncrease': 130, 'hash': 'c3ecef8de11c10f32aab7de586ab1c6451ea50be', 'commercialScore': 0, 'negativeRegularScore': 0, 'negativeScore': 0, 'positiveScore': 0, 'score': 0, 'grade': ''}\n"
     ]
    }
   ],
   "source": [
    "import requests\n",
    "import pandas as pd\n",
    "from pandas.io.json import json_normalize\n",
    "import json\n",
    "\n",
    "# url = 'https://adventofcode.com/2020/leaderboard/private/view/974926.json'\n",
    "url = 'https://api.covidtracking.com/v1/states/wa/daily.json'\n",
    "# url = 'https://api.covidtracking.com/v1/states/wa/current.json'\n",
    "# url = 'http://dydja.com/participant-activity-logs/'\n",
    "df = requests.get(url)\n",
    "xtc = df.json()\n",
    "for i in xtc[0:1]:\n",
    "    print('Date:', i['date'], '| Total Positive:',i['positive'], '| New Positive:', i[\"positiveIncrease\"],\n",
    "          '| Total Death:', i[\"death\"], '| New Deaths:', i[\"deathIncrease\"], '| Cur Hosp:', i['hospitalizedCurrently'])\n",
    "print(xtc[0])\n",
    "\n"
   ]
  },
  {
   "cell_type": "code",
   "execution_count": null,
   "metadata": {},
   "outputs": [],
   "source": []
  }
 ],
 "metadata": {
  "kernelspec": {
   "display_name": "Python 3",
   "language": "python",
   "name": "python3"
  },
  "language_info": {
   "codemirror_mode": {
    "name": "ipython",
    "version": 3
   },
   "file_extension": ".py",
   "mimetype": "text/x-python",
   "name": "python",
   "nbconvert_exporter": "python",
   "pygments_lexer": "ipython3",
   "version": "3.7.4"
  }
 },
 "nbformat": 4,
 "nbformat_minor": 2
}
